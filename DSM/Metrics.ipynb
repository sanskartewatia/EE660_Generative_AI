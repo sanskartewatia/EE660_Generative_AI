{
 "cells": [
  {
   "cell_type": "code",
   "execution_count": 1,
   "id": "55b9325c-a326-440c-9dcc-133f87f9aaa1",
   "metadata": {
    "tags": []
   },
   "outputs": [],
   "source": [
    "import numpy as np\n",
    "from scipy.stats import gaussian_kde\n",
    "import os"
   ]
  },
  {
   "cell_type": "code",
   "execution_count": 2,
   "id": "b72a606f-6049-473c-882d-c165484d3c13",
   "metadata": {
    "tags": []
   },
   "outputs": [],
   "source": [
    "dsm_check = np.load('dsm_check.npy')\n",
    "dsm_spiral = np.load('dsm_spiral.npy')\n",
    "dsm_pin = np.load('dsm_pin.npy')\n",
    "dsm_gauss = np.load('dsm_gauss.npy')\n",
    "generate_checkerboard = np.load('generate_checkerboard.npy')\n",
    "generate_pinwheel = np.load('generate_pinwheel.npy')\n",
    "generate_spiral = np.load('generate_spiral.npy')\n",
    "generate_gaussian_mixtures = np.load('generate_gaussian_mixtures.npy')"
   ]
  },
  {
   "cell_type": "code",
   "execution_count": 4,
   "id": "0a4cc669-1b78-42db-b962-c84a2eaa2070",
   "metadata": {
    "tags": []
   },
   "outputs": [
    {
     "name": "stdout",
     "output_type": "stream",
     "text": [
      "DDPM with Spiral Dataset Log-Likelihood: -0.8702093714295902\n"
     ]
    }
   ],
   "source": [
    "print(\"DDPM with Spiral Dataset Log-Likelihood:\", gaussian_kde(dsm_spiral.T).logpdf(generate_spiral.T).mean())"
   ]
  },
  {
   "cell_type": "code",
   "execution_count": 5,
   "id": "59ba10b8-2ce6-4207-ae4e-90fc9a744873",
   "metadata": {
    "tags": []
   },
   "outputs": [
    {
     "name": "stdout",
     "output_type": "stream",
     "text": [
      "DDPM with Pinwheel Dataset Log-Likelihood: -0.8748891453919051\n"
     ]
    }
   ],
   "source": [
    "print(\"DDPM with Pinwheel Dataset Log-Likelihood:\", gaussian_kde(dsm_pin.T).logpdf(generate_pinwheel.T).mean())"
   ]
  },
  {
   "cell_type": "code",
   "execution_count": 3,
   "id": "fe9f8b60-f254-487c-ada2-bdfe5e0e2b7b",
   "metadata": {
    "tags": []
   },
   "outputs": [
    {
     "name": "stdout",
     "output_type": "stream",
     "text": [
      "DDPM with Checkerboard Dataset Log-Likelihood: -4.0769506620432345\n"
     ]
    }
   ],
   "source": [
    "print(\"DDPM with Checkerboard Dataset Log-Likelihood:\", gaussian_kde(dsm_check.T).logpdf(generate_checkerboard.T).mean())"
   ]
  },
  {
   "cell_type": "code",
   "execution_count": 6,
   "id": "08e38a47-4e9a-4b73-b6a2-cea379260382",
   "metadata": {
    "tags": []
   },
   "outputs": [
    {
     "name": "stdout",
     "output_type": "stream",
     "text": [
      "DDPM with Gaussian Dataset Log-Likelihood: -1.5247755664746854\n"
     ]
    }
   ],
   "source": [
    "print(\"DDPM with Gaussian Dataset Log-Likelihood:\", gaussian_kde(dsm_gauss.T).logpdf(generate_gaussian_mixtures.T).mean())"
   ]
  },
  {
   "cell_type": "code",
   "execution_count": null,
   "id": "3168c3c6-951e-4dbe-b192-e636604dfd8e",
   "metadata": {},
   "outputs": [],
   "source": []
  }
 ],
 "metadata": {
  "kernelspec": {
   "display_name": "Python 3 (ipykernel)",
   "language": "python",
   "name": "python3"
  },
  "language_info": {
   "codemirror_mode": {
    "name": "ipython",
    "version": 3
   },
   "file_extension": ".py",
   "mimetype": "text/x-python",
   "name": "python",
   "nbconvert_exporter": "python",
   "pygments_lexer": "ipython3",
   "version": "3.11.5"
  }
 },
 "nbformat": 4,
 "nbformat_minor": 5
}
